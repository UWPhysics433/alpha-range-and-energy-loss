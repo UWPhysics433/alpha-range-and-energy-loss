{
 "cells": [
  {
   "cell_type": "markdown",
   "metadata": {},
   "source": [
    "# Individual Analysis &ndash; $\\alpha$ Range & Energy Loss\n",
    "\n",
    "We will use [**LMFit**](https://lmfit.github.io/lmfit-py/) for line fitting and the [Uncertainties](https://pythonhosted.org/uncertainties/) package for calculating statistical uncertainty. \n",
    "\n",
    "You may need to consult the documentation for different Python packages.  Also recommended: the [Whirlwind Tour of Python](https://jakevdp.github.io/WhirlwindTourOfPython/) and the [Python Data Science Handbook](https://jakevdp.github.io/PythonDataScienceHandbook/) both by Jake VanderPlas.\n"
   ]
  },
  {
   "cell_type": "code",
   "execution_count": null,
   "metadata": {},
   "outputs": [],
   "source": [
    "import numpy as np  # import the numpy library functions.\n",
    "import scipy.constants as const # import physical constants\n",
    "import matplotlib.pyplot as plt # plotting functions\n",
    "import uncertainties as unc # Uncertainties package.  Good for simple error propagation\n",
    "# directive below puts the plots in the notebook\n",
    "%matplotlib inline"
   ]
  },
  {
   "cell_type": "markdown",
   "metadata": {},
   "source": [
    "### A new library: Pandas\n",
    "\n",
    "[**Pandas**](https://pandas.pydata.org/pandas-docs/stable) is a useful library of data manipulation functions.  It has a very easy way to read in data from a spreadsheet and it creates a structure called a `DataFrame`.  You will use this below to read in your spreadsheet data from the pulse-height peak measurements."
   ]
  },
  {
   "cell_type": "code",
   "execution_count": null,
   "metadata": {},
   "outputs": [],
   "source": [
    "# A new library.\n",
    "from pandas import read_csv, DataFrame"
   ]
  },
  {
   "cell_type": "markdown",
   "metadata": {},
   "source": [
    "## Calibrate the MCA system\n",
    "\n",
    "### Read in the calibration data\n",
    "\n",
    "For finding the MCA zero, you should have a two-column spreadsheet file saved as a \".csv\" type (\"comma separated values\").  This is the simplest form of a spreadsheet.  The column labels, e.g., **Pulser Ampl** and **Pulser Chan**, will denote the arrays.\n",
    "\n",
    "Use the Pandas `read_csv()` function to read this spreadsheet file. It is very easy to use this function and handles a variety of data types and structures.  See below.\n",
    "\n",
    "You may obtain the arrays for each column by using the column label, e.g., `Zero_cal['Pulser Ampl']` is the array created from that spreadsheet column.\n"
   ]
  },
  {
   "cell_type": "code",
   "execution_count": null,
   "metadata": {},
   "outputs": [],
   "source": [
    "# I assume the file is called 'zero_cal.csv'.  \n",
    "# The structure 'Zero_cal' is a Pandas DataFrame\n",
    "\n",
    "Zero_cal = read_csv('zero_cal.csv')\n",
    "\n",
    "# Simply stating the DataFrame as the last line prints a nice table:\n",
    "Zero_cal"
   ]
  },
  {
   "cell_type": "markdown",
   "metadata": {},
   "source": [
    "### Copy the arrays from the DataFrame\n",
    "\n",
    "Arrays are returned from the column labels, like this."
   ]
  },
  {
   "cell_type": "code",
   "execution_count": null,
   "metadata": {},
   "outputs": [],
   "source": [
    "Pulser_amplitude =  Zero_cal['Pulser Ampl']\n",
    "Pulser_channels = Zero_cal['Pulser Chan']"
   ]
  },
  {
   "cell_type": "markdown",
   "metadata": {},
   "source": [
    "### Fit, find the intercept, and save it\n",
    "Then fit to a line, with `Pulser_channels` as \"Y\" and `Pulser_amplitude` as \"X\" and obtain the intercept.  Create a pair numbers that gives this point on the \"Energy\" vs. \"Channels\" plane.  (\"Energy\" in this case = 0.  Right?) "
   ]
  },
  {
   "cell_type": "code",
   "execution_count": null,
   "metadata": {},
   "outputs": [],
   "source": [
    "# Use LMfit or the simpler polyfit() from Numpy (your choice) \n"
   ]
  },
  {
   "cell_type": "code",
   "execution_count": null,
   "metadata": {},
   "outputs": [],
   "source": [
    "# Save the intercept to a variable you won't lose by reassigning it\n",
    "MCA_zero =  # Unit is channel number: which channel correspinds to zero peak height?\n"
   ]
  },
  {
   "cell_type": "markdown",
   "metadata": {},
   "source": [
    "### Assign the location of the unshifted energy\n",
    "\n",
    "From your data set(s) find the peak position and width of the unshifted (that is, under-good-vacuum) 5.486 MeV peak of Am-241.  "
   ]
  },
  {
   "cell_type": "code",
   "execution_count": null,
   "metadata": {},
   "outputs": [],
   "source": [
    "Max_energy_loc = # Channel number of the maximum energy \n",
    "Max_energy_width = # Width in channel numbers of the same peakk"
   ]
  },
  {
   "cell_type": "markdown",
   "metadata": {},
   "source": [
    "### Create a two-point calibration function\n",
    "\n",
    "Write a function that takes as its arguments the coordinates of two points and returns the slope and intercept of a line that passes through those two points."
   ]
  },
  {
   "cell_type": "code",
   "execution_count": null,
   "metadata": {},
   "outputs": [],
   "source": [
    "def two_point_cal(p1, p2):\n",
    "    '''Returns slope, intercept in a dictionary for two calibration points.\n",
    "       Assumes p1, p2 are binary tuples: (x1,y1), (x2,y2).\n",
    "    '''\n",
    "    # You finish this"
   ]
  },
  {
   "cell_type": "markdown",
   "metadata": {},
   "source": [
    "### Apply the function to the Energy calibration\n",
    "\n",
    "Use the results above to obtain the coefficients for (one of) the energy calibrations.\n",
    "\n",
    "Apply the calibration slope to get the peak width (FWHM) in keV."
   ]
  },
  {
   "cell_type": "code",
   "execution_count": null,
   "metadata": {},
   "outputs": [],
   "source": [
    "# Here is what the function call should look like, and how you access the return values\n",
    "\n",
    "E_cal = two_point_cal( (MCA_zero, 0.0), (Max_energy_loc, 5.486))\n",
    "\n",
    "print('Energy calibration intercept = {:.4g} MeV'.format(E_cal['intercept']))\n",
    "print('Energy calibration slope = {:.4g} MeV/Ch'.format(E_cal['slope']))\n",
    "print('Resolution (FWHM) of Am-241 peak = {:.4g} keV'.format(Max_energy_width*E_cal['slope']*1e3))"
   ]
  },
  {
   "cell_type": "markdown",
   "metadata": {},
   "source": [
    "## Calibrate the pressure measurement system\n",
    "\n",
    "Repeat the above process to obtain calibration coefficients for the pressure system.  You should be able to use your two-point function.\n",
    "\n",
    "Your data should come from the voltage measurements of the pressure transducer under good vacuum (pressure equals zero) and when the system is open to the atmosphere (pressure equals that day's atmospheric pressure in mm Hg).  You also will need a measurement of the atmospheric pressure from the lab's mercury barometer."
   ]
  },
  {
   "cell_type": "code",
   "execution_count": null,
   "metadata": {},
   "outputs": [],
   "source": [
    "# Record the data here\n",
    "\n",
    "Zero_P_volts =\n",
    "Atmos_P_volts =\n",
    "Zero_P_mmHg = 0.0\n",
    "Atmos_P_mmHg = \n",
    "\n",
    "# Then call your function again, and save the coefficients\n",
    "\n",
    "P_cal = two_point_cal( (Zero_P_volts, Zero_P_mmHg), (Atmos_P_volts, Atmos_P_mmHg))\n"
   ]
  },
  {
   "cell_type": "markdown",
   "metadata": {},
   "source": [
    "## Get the Data and Calibrate it\n",
    "\n",
    "### Read in your data for air and He gas\n",
    "\n",
    "Use the Pandas `read_csv()` function to read the data files.\n"
   ]
  },
  {
   "cell_type": "code",
   "execution_count": null,
   "metadata": {},
   "outputs": [],
   "source": [
    "# Read in the data sets:\n",
    "\n",
    "Air = read_csv()\n",
    "He = read_csv()"
   ]
  },
  {
   "cell_type": "code",
   "execution_count": null,
   "metadata": {},
   "outputs": [],
   "source": [
    "print('Air Data Set')\n",
    "Air"
   ]
  },
  {
   "cell_type": "code",
   "execution_count": null,
   "metadata": {},
   "outputs": [],
   "source": [
    "print('He Data Set')\n",
    "He"
   ]
  },
  {
   "cell_type": "markdown",
   "metadata": {},
   "source": [
    "### Apply the calibration methods.  \n",
    "\n",
    "Remember, here you convert Pressure in volts to torr (mm Hg) and channels to energy (MeV). \n",
    "**Important: Remember to use the peak location at zero pressure in the data set to determine the energy of the 5.486 MeV channel**.\n",
    "\n",
    "Advice: After working out the steps to apply the calibrations, wrap those into a **function** that you can call with each data set as an argument, and which returns the calibrated data."
   ]
  },
  {
   "cell_type": "code",
   "execution_count": null,
   "metadata": {},
   "outputs": [],
   "source": [
    "# You write this\n",
    "\n"
   ]
  },
  {
   "cell_type": "markdown",
   "metadata": {},
   "source": [
    "## Data Analysis\n",
    "\n",
    "### Convert the pressure to mass-thickness $\\rho x$\n",
    "\n",
    "Use the standard density constants ($\\rho_0$) from Sternheim (see the instructions) to convert the pressure measurements to mass thickness measurements.  You will need the temperature on the day the data were taken and the measured distance between the source and detector."
   ]
  },
  {
   "cell_type": "code",
   "execution_count": null,
   "metadata": {},
   "outputs": [],
   "source": [
    "# You write this\n",
    "\n"
   ]
  },
  {
   "cell_type": "markdown",
   "metadata": {},
   "source": [
    "### Calculate $\\Delta w$ \n",
    "\n",
    "As described in the instructions, you want to calculate the change in width of the peaks due to the gas.  This is done by subtracting the width of the zero-pressure peak from the widths of the other peaks \"in quadrature.\"\n",
    "\n",
    "Do this by making a function to subtract one number from an array in quadrature. The function should return the modified array.  You can reuse this function later."
   ]
  },
  {
   "cell_type": "code",
   "execution_count": null,
   "metadata": {},
   "outputs": [],
   "source": [
    "def quad_subtraction(w_array,w_0):\n",
    "    '''Subract w_0 from all elements of w_array in quadrature'''\n"
   ]
  },
  {
   "cell_type": "markdown",
   "metadata": {},
   "source": [
    "### Make three graphs\n",
    "\n",
    "Plot:\n",
    "1. $E$ vs. $\\rho x$ (Energy vs mass thickness)\n",
    "2. $\\Delta w$ vs. $\\rho x$ (Change in peak width vs mass thickness). Should you use the first data point? Why or why not?\n",
    "3. $R$ vs. $\\rho x$ (Counting rate vs. mass thickness)\n",
    "\n",
    "Do this for all gases, and plot the data from each on the same graph so that you can compare them.\n",
    "\n",
    "Plot the data with points, not lines, e.g., `'ob'` for blue dots."
   ]
  },
  {
   "cell_type": "code",
   "execution_count": null,
   "metadata": {
    "scrolled": false
   },
   "outputs": [],
   "source": [
    "# You write this\n",
    "\n"
   ]
  },
  {
   "cell_type": "markdown",
   "metadata": {},
   "source": [
    "## Calculate the \"Stopping Power\" $-dE/d(\\rho x)$\n",
    "\n",
    "#### First . . .\n",
    "Write a couple of functions: one that takes an ordered array and returns the midpoints between each successive element in the array, e.g.  calculates $X_{mid,i} = (x_{i+1}+x_i)/2$, and another that takes a pair of related arrays, `X` and `Y`, and calculates an array of \"first differences\", that is\n",
    "$$ (dy/dx)_i = \\frac{y_{i+i}-y_i}{x_{i+1}-x_i}$$\n",
    "(Note that this requires the `X` array to be strictly increasing.)"
   ]
  },
  {
   "cell_type": "code",
   "execution_count": null,
   "metadata": {},
   "outputs": [],
   "source": [
    "# You write these functions\n",
    "\n"
   ]
  },
  {
   "cell_type": "markdown",
   "metadata": {},
   "source": [
    "#### Second. . .\n",
    "\n",
    "Apply your functions to the $\\rho x$ and $E$ arrays to obtain the first-differences array $\\Delta E/\\Delta(\\rho x)$ and the values of $\\rho x$ at the midpoints, and plot the results for all gases on the same graph."
   ]
  },
  {
   "cell_type": "code",
   "execution_count": null,
   "metadata": {},
   "outputs": [],
   "source": [
    "# You write this\n",
    "\n"
   ]
  },
  {
   "cell_type": "markdown",
   "metadata": {},
   "source": [
    "### Stopping Power as function of $E$\n",
    "\n",
    "Now plot the same $\\Delta E/\\Delta(\\rho x)$ array as a function of the deposited energy $E$ instead of $\\rho x$. You will need the midpoints array of $E$ first: use your function."
   ]
  },
  {
   "cell_type": "code",
   "execution_count": null,
   "metadata": {},
   "outputs": [],
   "source": [
    "# You write this\n",
    "\n"
   ]
  },
  {
   "cell_type": "markdown",
   "metadata": {},
   "source": [
    "### The Bethe-Bloch Equation\n",
    "\n",
    "The \"Bethe-Bloch\" equation (or a modified form of its earlier incarnation as derived by Niels Bohr) applies to this experiment. This equation, from Leo, p. 24, written in terms of $\\beta$ and specialized to lower energy $\\alpha$ particles ($z=2$) looks like:\n",
    "\n",
    "$$-\\left(\\frac{1}{\\rho_0}\\right)\\frac{dE}{dx}=K\\frac{Z}{A}\\frac{4}{\\beta^2}\\left(\\ln\\frac{W^2_\\text{max}}{I^2} - 2\\beta^2\\right)$$\n",
    "\n",
    "where\n",
    "* $K$ = $[2\\pi r_e^2m_ec^2 N_\\text{a}]$ = 0.1535 MeV-cm<sup>2</sup>/mol\n",
    "* $\\beta=v/c$ = speed of incoming particle\n",
    "* $W_\\text{max}=(2m_ec^2\\beta^2)/(1-\\beta^2)$ for lower energy particles\n",
    "* $I$ is the mean excitation potential (in MeV)\n",
    "* $Z$ is atomic number of gas specie (unitless)\n",
    "* $A$ is molecular weight of gas (g/mol)\n",
    "* $m_ec^2$ = rest energy of electron, 0.5110034 MeV\n",
    "\n",
    "In this formula, the energy $E$ is the *kinetic energy* of the alpha particle.  You can obtain $\\beta$ from the form of the relativistic kinetic energy $E = (\\gamma -1)Mc^2$ where $\\gamma\\equiv 1/\\sqrt(1-\\beta^2)$\n",
    "\n",
    "Write a function that will produce the above equation for input parameters $E$, $Z/A$ and $I$.  Then use the equation to generate theoretical curves for the different gases used, based on the parameters provided in the instructions  taken from the paper by Sternheimer, et al. \n",
    "\n",
    "For fundamental constants, use the SciPy constants library."
   ]
  },
  {
   "cell_type": "code",
   "execution_count": null,
   "metadata": {},
   "outputs": [],
   "source": [
    "# Define the constants and function used in the Bethe-Bloch equation\n",
    "\n",
    "mc2 = const.value(u'electron mass energy equivalent in MeV')\n",
    "Mc2 = const.value(u'alpha particle mass energy equivalent in MeV')\n",
    "r_e = const.value(u'classical electron radius')*100.0 # Put electron radius in cm\n",
    "N_a = const.value(u'Avogadro constant')\n",
    "\n"
   ]
  },
  {
   "cell_type": "markdown",
   "metadata": {},
   "source": [
    "### Make the plot\n",
    "\n",
    "Now plot your version of Bethe-Bloch over the data"
   ]
  },
  {
   "cell_type": "code",
   "execution_count": null,
   "metadata": {},
   "outputs": [],
   "source": [
    "# You write this\n",
    "\n"
   ]
  },
  {
   "cell_type": "markdown",
   "metadata": {},
   "source": [
    "## Optional: Include measurements for argon\n",
    "\n",
    "A data set taken for argon is included in the files for this experiment.  It is interesting to compare this set to the one for air.  You will need to adjust the $\\rho x$ calculation since the measured source-detector distance is 45.0 mm, which may be different from your measurement.\n",
    "\n",
    "Add cells as you need them."
   ]
  },
  {
   "cell_type": "code",
   "execution_count": null,
   "metadata": {},
   "outputs": [],
   "source": [
    "# You wite this, and add as necessary.\n",
    "\n"
   ]
  },
  {
   "cell_type": "markdown",
   "metadata": {},
   "source": [
    "## Optional: Fit to Bethe-Bloch\n",
    "\n",
    "You can use your function for the Bethe-Bloch equation to fit the data by letting the parameter $I$ be adjustable.  **Important: You can only do this where the formula is valid which would be above 1 MeV.** You would need to fit to a subset of the data."
   ]
  },
  {
   "cell_type": "code",
   "execution_count": null,
   "metadata": {},
   "outputs": [],
   "source": [
    "# You write this\n",
    "\n"
   ]
  }
 ],
 "metadata": {
  "kernelspec": {
   "display_name": "Python 3",
   "language": "python",
   "name": "python3"
  },
  "language_info": {
   "codemirror_mode": {
    "name": "ipython",
    "version": 3
   },
   "file_extension": ".py",
   "mimetype": "text/x-python",
   "name": "python",
   "nbconvert_exporter": "python",
   "pygments_lexer": "ipython3",
   "version": "3.7.3"
  }
 },
 "nbformat": 4,
 "nbformat_minor": 2
}
